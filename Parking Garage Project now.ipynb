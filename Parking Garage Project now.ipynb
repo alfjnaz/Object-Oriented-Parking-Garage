{
 "cells": [
  {
   "cell_type": "markdown",
   "metadata": {},
   "source": [
    "# Parking Garage Project\n",
    "\n",
    "Your assignment for today is to create a parking garage class to get more familiar with Object Oriented Programming(OOP). \n",
    "\n",
    "Your parking gargage class should have the following methods:\n",
    "- takeTicket\n",
    "   - This should decrease the amount of tickets available by 1\n",
    "   - This should decrease the amount of parkingSpaces available by 1\n",
    "- payForParking\n",
    "   - Display an input that waits for an amount from the user and store it in a variable\n",
    "   - If the payment variable is not empty then ->  display a message to the user that their ticket has been paid and they have 15mins to leave\n",
    "   - This should update the \"currentTicket\" dictionary key \"paid\" to True\n",
    "-leaveGarage\n",
    "   - If the ticket has been paid, display a message of \"Thank You, have a nice day\"\n",
    "   - If the ticket has not been paid, display an input prompt for payment\n",
    "      - Once paid, display message \"Thank you, have a nice day!\"\n",
    "   - Update parkingSpaces list to increase by 1\n",
    "   - Update tickets list to increase by 1\n",
    "\n",
    "You will need a few attributes as well:\n",
    "- tickets -> list\n",
    "- parkingSpaces -> list\n",
    "- currentTicket -> dictionary"
   ]
  },
  {
   "cell_type": "code",
   "execution_count": null,
   "metadata": {},
   "outputs": [],
   "source": [
    "class ParkingGarage:\n",
    "    def __init__(self, num_spaces):\n",
    "        self.tickets = list(range(1, num_spaces + 1))\n",
    "        self.parkingSpaces = list(range(1, num_spaces + 1))\n",
    "        self.currentTicket = {}\n",
    "\n",
    "    def takeTicket(self):\n",
    "        self.currentTicket[self.tickets.pop()] = False\n",
    "        self.parkingSpaces.pop()\n",
    "\n",
    "    def payForParking(self):\n",
    "        ticket_num = int(input(\"enter ticket number: \"))\n",
    "        if ticket_num in self.currentTicket:\n",
    "            payment = input(\"enter payment amount: \")\n",
    "            if payment:\n",
    "                print(\"ticket is paid\")\n",
    "                self.currentTicket[ticket_num] = True\n",
    "\n",
    "    def leaveGarage(self):\n",
    "        ticket_num = int(input(\"enter ticket number: \"))\n",
    "        if self.currentTicket.get(ticket_num) == True:\n",
    "            print(\"Thank You, have a nice day\")\n",
    "            self.tickets.append(ticket_num)\n",
    "            self.parkingSpaces.append(ticket_num)\n",
    "        else:\n",
    "            print(\"Please pay for ticket\")\n",
    "            self.payForParking()\n",
    "            print(\"Thank you, have a nice day\")\n",
    "            self.tickets.append(ticket_num)\n",
    "            self.parkingSpaces.append(ticket_num)\n",
    "\n",
    "# parking garage with 30 spaces\n",
    "garage = ParkingGarage(30)\n",
    "\n",
    "garage.takeTicket()\n",
    "\n",
    "garage.payForParking()\n",
    "\n",
    "garage.leaveGarage()\n"
   ]
  }
 ],
 "metadata": {
  "kernelspec": {
   "display_name": "Python 3",
   "language": "python",
   "name": "python3"
  },
  "language_info": {
   "codemirror_mode": {
    "name": "ipython",
    "version": 3
   },
   "file_extension": ".py",
   "mimetype": "text/x-python",
   "name": "python",
   "nbconvert_exporter": "python",
   "pygments_lexer": "ipython3",
   "version": "3.12.1"
  }
 },
 "nbformat": 4,
 "nbformat_minor": 2
}
